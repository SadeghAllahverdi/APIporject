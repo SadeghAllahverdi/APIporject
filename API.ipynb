{
 "cells": [
  {
   "cell_type": "markdown",
   "id": "21830c12",
   "metadata": {},
   "source": [
    "# API project"
   ]
  },
  {
   "cell_type": "markdown",
   "id": "e773b225",
   "metadata": {},
   "source": [
    "# importing and preparing enviroment"
   ]
  },
  {
   "cell_type": "code",
   "execution_count": 1,
   "id": "07161654",
   "metadata": {},
   "outputs": [],
   "source": [
    "import requests\n",
    "import csv\n",
    "import time\n",
    "import json\n",
    "import ipywidgets as widgets\n",
    "import folium\n",
    "import webbrowser\n",
    "import collections\n",
    "import pandas as pd"
   ]
  },
  {
   "cell_type": "markdown",
   "id": "10e90cb3",
   "metadata": {},
   "source": [
    "# Credentials Object for calling API"
   ]
  },
  {
   "cell_type": "code",
   "execution_count": 2,
   "id": "d33c9f88",
   "metadata": {},
   "outputs": [],
   "source": [
    "class Credentials:\n",
    "    bearer_token = \"*************************\"\n",
    "    base_url = \"*****************************"\n",
    "    headers = {\"Authorization\": f\"Bearer {bearer_token}\",\"User-Agent\":\"****************\"}"
   ]
  },
  {
   "cell_type": "markdown",
   "id": "58c9d767",
   "metadata": {},
   "source": [
    "# API functionalities\n",
    "1. cell data"
   ]
  },
  {
   "cell_type": "code",
   "execution_count": 3,
   "id": "c5d0c684",
   "metadata": {},
   "outputs": [],
   "source": [
    "#1\n",
    "def get_cell_data():\n",
    "    cell = input(\"please enter the cell number to get cell data.\")\n",
    "    endpoint_url = f\"/cells/{cell}/\"\n",
    "    response = requests.get(Credentials.base_url+endpoint_url, headers = Credentials.headers, timeout=30)\n",
    "    if response.status_code == 200:\n",
    "        json_data = response.json()\n",
    "        return json_data\n",
    "    else:\n",
    "        print(\"Error:\", response.status_code)\n",
    "\n",
    "#2   \n",
    "def list_heartbeats_for_single_cell():\n",
    "    cell = input(\"please enter the cell number to get cell heartbeat\")\n",
    "    endpoint_url = f\"/cells/{cell}/heatbeats/\"\n",
    "    response = requests.get(Credentials.base_url+endpoint_url, headers = Credentials.headers, timeout=30)\n",
    "    if response.status_code == 200:\n",
    "        json_data = response.json()\n",
    "        return json_data\n",
    "    else:\n",
    "        print(\"Error:\", response.status_code)\n",
    "\n",
    "#3    \n",
    "def list_rewards_for_single_cell():\n",
    "    cell = input(\"please enter the cell number to get cell rewards\")\n",
    "    endpoint_url = f\"/cells{cell}/rewards/\"\n",
    "    response = requests.get(Credentials.base_url+endpoint_url, headers = Credentials.headers, timeout=30)\n",
    "    if response.status_code == 200:\n",
    "        json_data = response.json()\n",
    "        return json_data\n",
    "    else:\n",
    "        print(\"Error:\", response.status_code)\n",
    "    \n",
    "#4\n",
    "def get_cell_count():\n",
    "    endpoint_url = f\"/cells/count/\"\n",
    "    response = requests.get(Credentials.base_url+endpoint_url, headers = Credentials.headers, timeout=30)\n",
    "    if response.status_code == 200:\n",
    "        json_data = response.json()\n",
    "        return json_data\n",
    "    else:\n",
    "        print(\"Error:\", response.status_code)"
   ]
  },
  {
   "cell_type": "markdown",
   "id": "ccd66961",
   "metadata": {},
   "source": [
    "2. hotspot data"
   ]
  },
  {
   "cell_type": "code",
   "execution_count": 4,
   "id": "c95666b1",
   "metadata": {},
   "outputs": [],
   "source": [
    "#5    \n",
    "def get_hotspot_data(hash_value):\n",
    "    endpoint_url = f\"/hotspots/{hash_value}/\"\n",
    "    response = requests.get(Credentials.base_url+endpoint_url, headers = Credentials.headers, timeout=30)\n",
    "    if response.status_code == 200:\n",
    "        json_data = response.json()\n",
    "        return json_data\n",
    "    else:\n",
    "        return None\n",
    "\n",
    "#6        \n",
    "def list_all_cells_attached_to_single_hotspot():\n",
    "    hotspot = input(\"please enter the hotspot name to get all cells attached to it\")\n",
    "    endpoint_url = f\"/hotspots/{hotspot}/cells/\"\n",
    "    response = requests.get(Credentials.base_url+endpoint_url, headers = Credentials.headers, timeout=30)\n",
    "    if response.status_code == 200:\n",
    "        json_data = response.json()\n",
    "        return json_data\n",
    "    else:\n",
    "        print(\"Error:\", response.status_code)\n",
    "\n",
    "#7    \n",
    "def list_rewards_for_single_hotspot():\n",
    "    hotspot = input(\"please enter the hotspot name to get hotspot rewards\")\n",
    "    endpoint_url = f\"/hotspots/{hotspot}/rewards/\"\n",
    "    response = requests.get(Credentials.base_url+endpoint_url, headers = Credentials.headers, timeout=30)\n",
    "    if response.status_code == 200:\n",
    "        json_data = response.json()\n",
    "        return json_data\n",
    "    else:\n",
    "        print(\"Error:\", response.status_code)\n",
    "\n",
    "#8    \n",
    "def get_hotspot_speedtest_reports():\n",
    "    hotspot = input(\"please enter the hotspot name to get hotspot speed report\")\n",
    "    endpoint_url = f\"/hotspots/{hotspot}/speedtests\"\n",
    "    response = requests.get(Credentials.base_url+endpoint_url, headers = Credentials.headers, timeout=30)\n",
    "    if response.status_code == 200:\n",
    "        json_data = response.json()\n",
    "        return json_data\n",
    "    else:\n",
    "        print(\"Error:\", response.status_code)\n",
    "\n",
    "#9   \n",
    "def get_hotspot_count():\n",
    "    endpoint_url = f\"/hotspots/count/\"\n",
    "    print(Credentials.base_url+endpoint)\n",
    "    response = requests.get(Credentials.base_url+endpoint_url, headers = Credentials.headers, timeout=30)\n",
    "    if response.status_code == 200:\n",
    "        json_data = response.json()\n",
    "        return json_data\n",
    "    else:\n",
    "        print(\"Error:\", response.status_code)"
   ]
  },
  {
   "cell_type": "markdown",
   "id": "93ab517d",
   "metadata": {},
   "source": [
    "Function to get hotspots infromation in germany"
   ]
  },
  {
   "cell_type": "code",
   "execution_count": 5,
   "id": "0489f4e9",
   "metadata": {},
   "outputs": [],
   "source": [
    "#10    \n",
    "def get_hotspots_in_germany():\n",
    "    endpoint_url = f\"/hotspots/country/DE\"\n",
    "    response = requests.get(Credentials.base_url+endpoint_url, headers = Credentials.headers, timeout=30)\n",
    "    if response.status_code == 200:\n",
    "        json_data = response.json()\n",
    "        return json_data\n",
    "    else:\n",
    "        print(\"Error:\", response.status_code)"
   ]
  },
  {
   "cell_type": "markdown",
   "id": "da400173",
   "metadata": {},
   "source": [
    "3. token and wallet data "
   ]
  },
  {
   "cell_type": "code",
   "execution_count": 6,
   "id": "e69a44b7",
   "metadata": {},
   "outputs": [],
   "source": [
    "#11    \n",
    "def get_token_prices():\n",
    "    endpoint_url = f\"/tokens/prices/\"\n",
    "    response = requests.get(Credentials.base_url+endpoint_url, headers = Credentials.headers, timeout=30)\n",
    "    if response.status_code == 200:\n",
    "        json_data = response.json()\n",
    "        return json_data\n",
    "    else:\n",
    "        print(\"Error:\", response.status_code)\n",
    "\n",
    "#12    \n",
    "def get_wallet_data_tbd():\n",
    "    wallet = input(\"please enter the wallet name to get wallet data\")\n",
    "    endpoint_url = f\"/wallets/{wallet}/\"\n",
    "    response = requests.get(Credentials.base_url+endpoint_url, headers = Credentials.headers, timeout=30)\n",
    "    if response.status_code == 200:\n",
    "        json_data = response.json()\n",
    "        return json_data\n",
    "    else:\n",
    "        print(\"Error:\", response.status_code)\n",
    "\n",
    "#13   \n",
    "def list_hotspots_for_single_wallet():\n",
    "    wallet = input(\"please enter the wallet name to get all hotspots\")\n",
    "    endpoint_url = f\"/wallets/{wallet}/hotspots/\"\n",
    "    response = requests.get(Credentials.base_url+endpoint_url, headers = Credentials.headers, timeout=30)\n",
    "    if response.status_code == 200:\n",
    "        json_data = response.json()\n",
    "        return json_data\n",
    "    else:\n",
    "        print(\"Error:\", response.status_code)"
   ]
  },
  {
   "cell_type": "markdown",
   "id": "8a133b02",
   "metadata": {},
   "source": [
    "# API structure"
   ]
  },
  {
   "cell_type": "code",
   "execution_count": 7,
   "id": "30f97b5f",
   "metadata": {},
   "outputs": [],
   "source": [
    "def wrong_input():\n",
    "    return \"wrong input given\"\n",
    "\n",
    "def perform_action(choice):\n",
    "    action_dict = {\n",
    "        1: get_cell_data, # not working\n",
    "        2: list_heartbeats_for_single_cell, # not working\n",
    "        3: list_rewards_for_single_cell, # not working\n",
    "        4: get_cell_count, \n",
    "        5: get_hotspot_data,# not working\n",
    "        6: list_all_cells_attached_to_single_hotspot,# not working\n",
    "        7: list_rewards_for_single_hotspot,# not working\n",
    "        8: get_hotspot_speedtest_reports,# not working\n",
    "        9: get_hotspot_count,\n",
    "        10: get_hotspots_in_germany,\n",
    "        11: get_token_prices,\n",
    "        12: get_wallet_data_tbd,# not working\n",
    "        13: list_hotspots_for_single_wallet# not working\n",
    "    }\n",
    "    chosen_function = action_dict.get(choice, wrong_input)\n",
    "    result = chosen_function()\n",
    "    return result"
   ]
  },
  {
   "cell_type": "markdown",
   "id": "27c81bf3",
   "metadata": {},
   "source": [
    "Retrieving data from the API endpoint \" /hotspots/country/DE \""
   ]
  },
  {
   "cell_type": "code",
   "execution_count": null,
   "id": "8babb10d",
   "metadata": {},
   "outputs": [],
   "source": [
    "perform_action(10)"
   ]
  },
  {
   "cell_type": "markdown",
   "id": "2c6abc14",
   "metadata": {},
   "source": [
    "# Mapping procedure\n",
    "# 1. Google map\n",
    "GPT generated kml structure"
   ]
  },
  {
   "cell_type": "code",
   "execution_count": 9,
   "id": "4c53d4e7",
   "metadata": {},
   "outputs": [],
   "source": [
    "def generate_kml(data):\n",
    "    kml_content = '<?xml version=\"1.0\" encoding=\"UTF-8\"?>\\n'\n",
    "    kml_content += '<kml xmlns=\"http://www.opengis.net/kml/2.2\">\\n'\n",
    "    kml_content += '  <Document>\\n'\n",
    "    \n",
    "    for hotspot in data:\n",
    "        lat = hotspot['lat']\n",
    "        lng = hotspot['lng']\n",
    "            \n",
    "        kml_content += f'    <Placemark>\\n'\n",
    "        kml_content += f'      <Point>\\n'\n",
    "        kml_content += f'        <coordinates>{lng},{lat}</coordinates>\\n'\n",
    "        kml_content += f'      </Point>\\n'\n",
    "        kml_content += f'    </Placemark>\\n'\n",
    "    \n",
    "    kml_content += '  </Document>\\n'\n",
    "    kml_content += '</kml>'\n",
    "    \n",
    "    return kml_content"
   ]
  },
  {
   "cell_type": "markdown",
   "id": "2f4022de",
   "metadata": {},
   "source": [
    "GPT generated function for saving KML content into a file"
   ]
  },
  {
   "cell_type": "code",
   "execution_count": 10,
   "id": "d5162b63",
   "metadata": {},
   "outputs": [],
   "source": [
    "def save_kml_to_file(kml_content, file_path):\n",
    "    with open(file_path, 'w') as kml_file:\n",
    "        kml_file.write(kml_content)"
   ]
  },
  {
   "cell_type": "markdown",
   "id": "f6234fc7",
   "metadata": {},
   "source": [
    "Execution on google maps"
   ]
  },
  {
   "cell_type": "code",
   "execution_count": 11,
   "id": "948f1491",
   "metadata": {},
   "outputs": [],
   "source": [
    "# Get hotspots data\n",
    "hotspots_data = get_hotspots_in_germany()\n",
    "active_hotspots_data = [h for h in hotspots_data if h['active']]\n",
    "\n",
    "# Define a file path for the KML file\n",
    "kml_file_path_all = 'hotspots_in_germany.kml'\n",
    "kml_file_path_active = 'hotspots_in_germany_active.kml'\n",
    "\n",
    "# Generate KML content\n",
    "kml_content1 = generate_kml(hotspots_data)\n",
    "kml_content2 = generate_kml(active_hotspots_data)\n",
    "\n",
    "# Save KML content to a file\n",
    "save_kml_to_file(kml_content1, kml_file_path_all)\n",
    "save_kml_to_file(kml_content2, kml_file_path_active)"
   ]
  },
  {
   "cell_type": "markdown",
   "id": "47a066f7",
   "metadata": {},
   "source": [
    "# 2. Folium for smaller scale"
   ]
  },
  {
   "cell_type": "markdown",
   "id": "247420bb",
   "metadata": {},
   "source": [
    "GPT generated folium map"
   ]
  },
  {
   "cell_type": "code",
   "execution_count": 12,
   "id": "6c9f0179",
   "metadata": {},
   "outputs": [],
   "source": [
    "def generate_folium_map(data, city):\n",
    "    my_map = folium.Map(location=[51.2333, 6.7833], zoom_start=7)\n",
    "    filtered_data = [h for h in data if h['city'] == city]\n",
    "    \n",
    "    for hotspot in filtered_data:\n",
    "        lat = hotspot['lat']\n",
    "        lng = hotspot['lng']\n",
    "        if hotspot['active']:\n",
    "            color = 'green'\n",
    "            status = 'ON'\n",
    "        else:\n",
    "            color = 'blue'\n",
    "            status = 'OFF'\n",
    "            \n",
    "        folium.Marker(location=[lat, lng], popup=hotspot['name'], tooltip = status , icon=folium.Icon(color=color)).add_to(my_map)\n",
    "                \n",
    "    return my_map"
   ]
  },
  {
   "cell_type": "markdown",
   "id": "5e495ef3",
   "metadata": {},
   "source": [
    "Execution on folium"
   ]
  },
  {
   "cell_type": "code",
   "execution_count": 28,
   "id": "92f2b54a",
   "metadata": {},
   "outputs": [
    {
     "name": "stdout",
     "output_type": "stream",
     "text": [
      "Enter city name: Hamburg\n",
      "2087  Total hotspots in  Hamburg\n",
      "778  Active hotspots in  Hamburg\n",
      "Active hotspot ratio:  37.27839003354097 %\n",
      "Hamburg  is located in Hamburg state.\n"
     ]
    }
   ],
   "source": [
    "# Get hotspots data\n",
    "hotspots_data = get_hotspots_in_germany()\n",
    "active_hotspots_data = [h for h in hotspots_data if h['active']]\n",
    "\n",
    "city = input(\"Enter city name: \")\n",
    "folium_map = generate_folium_map(hotspots_data, city)\n",
    "folium_map.save('hotspots_map_city.html')\n",
    "total=len([h for h in hotspots_data if h['city']==city])\n",
    "active=len([h for h in active_hotspots_data if h['city']==city])\n",
    "ratio = (active/total)*100\n",
    "state = [h['state']for h in active_hotspots_data if h['city']==city][0]\n",
    "print(total,\" Total hotspots in \", city)\n",
    "print(active,\" Active hotspots in \", city)\n",
    "print(\"Active hotspot ratio: \", ratio, '%')\n",
    "print(city,\" is located in\", state, \"state.\")"
   ]
  },
  {
   "cell_type": "markdown",
   "id": "ebf72e7a",
   "metadata": {},
   "source": [
    "# Saving API data in CSV format\n",
    "Function to extract data in a CSV format"
   ]
  },
  {
   "cell_type": "code",
   "execution_count": 14,
   "id": "3334b171",
   "metadata": {},
   "outputs": [],
   "source": [
    "def save_csv_to_file(content, file_path):\n",
    "    with open(file_path, 'w', newline = '', encoding='utf-8') as csv_file:\n",
    "        fieldnames = list(content[0].keys())\n",
    "        writer = csv.DictWriter(csv_file, fieldnames=fieldnames)\n",
    "        writer.writeheader()\n",
    "        for h in content:\n",
    "            writer.writerow(h)"
   ]
  },
  {
   "cell_type": "markdown",
   "id": "357542f4",
   "metadata": {},
   "source": [
    "saving in CSV"
   ]
  },
  {
   "cell_type": "code",
   "execution_count": 15,
   "id": "d42a6a4d",
   "metadata": {},
   "outputs": [],
   "source": [
    "# All hotspots\n",
    "csv_content1 = get_hotspots_in_germany()\n",
    "# Active hotspots\n",
    "csv_content2 = [h for h in csv_content1 if h['active']]\n",
    "\n",
    "# Define CSV file paths\n",
    "csv_file_path_all = 'hotspots_in_germany.csv'\n",
    "csv_file_path_active = 'hotspots_in_germany_active.csv'\n",
    "\n",
    "# Save data  to a CSV file\n",
    "save_csv_to_file(csv_content1, csv_file_path_all)\n",
    "save_csv_to_file(csv_content2, csv_file_path_active)"
   ]
  },
  {
   "cell_type": "markdown",
   "id": "2029c5ad",
   "metadata": {},
   "source": [
    "# Additional improvements\n",
    "1. function to find the highest active ration city"
   ]
  },
  {
   "cell_type": "code",
   "execution_count": 20,
   "id": "dfc1a620",
   "metadata": {},
   "outputs": [],
   "source": [
    "def highest_active_ratio():\n",
    "    lower_boundry = int(input(\"please enter a lower boundry\"))\n",
    "    max_ratio_city = None\n",
    "    max_ratio = 0\n",
    "    city_ratio = collections.defaultdict(lambda: {'total_number':0, 'active_number':0})\n",
    "    for hotspot in csv_content1:\n",
    "        city_name = hotspot['city']\n",
    "        city_ratio[city_name]['total_number']+=1\n",
    "        if hotspot['active']:\n",
    "            city_ratio[city_name]['active_number']+=1\n",
    "    for city, values in city_ratio.items():\n",
    "        total_number = values['total_number']\n",
    "        active_number = values['active_number']\n",
    "        if total_number > 0:\n",
    "            values['active_ratio'] = (active_number / total_number)*100\n",
    "    for city, values in city_ratio.items():\n",
    "        active_ratio = values['active_ratio']\n",
    "        if active_ratio > max_ratio and values['total_number'] > lower_boundry:\n",
    "            max_ratio = active_ratio\n",
    "            max_ratio_city = city\n",
    "\n",
    "    print(\"max ratio hotspot city is\", max_ratio_city,\"with \", max_ratio, \"%\")"
   ]
  },
  {
   "cell_type": "code",
   "execution_count": 21,
   "id": "151b1d21",
   "metadata": {},
   "outputs": [
    {
     "name": "stdout",
     "output_type": "stream",
     "text": [
      "please enter a lower boundry70\n",
      "max ratio hotspot city is Weiterstadt with  78.87323943661971 %\n"
     ]
    }
   ],
   "source": [
    "highest_active_ratio()"
   ]
  },
  {
   "cell_type": "markdown",
   "id": "ff1e8bd2",
   "metadata": {},
   "source": [
    "# Gateway CSV File"
   ]
  },
  {
   "cell_type": "markdown",
   "id": "07378fa7",
   "metadata": {},
   "source": [
    "1. Number of all hostpots in germany"
   ]
  },
  {
   "cell_type": "code",
   "execution_count": null,
   "id": "1954126c",
   "metadata": {},
   "outputs": [],
   "source": [
    "# hotspot info germany:\n",
    "hotspotlist = perform_action(10)\n",
    "len(hotspotlist)"
   ]
  },
  {
   "cell_type": "markdown",
   "id": "b33c20e8",
   "metadata": {},
   "source": [
    "2. Number of active hotspots in germany"
   ]
  },
  {
   "cell_type": "code",
   "execution_count": 19,
   "id": "b64707b6",
   "metadata": {},
   "outputs": [
    {
     "data": {
      "text/plain": [
       "27044"
      ]
     },
     "execution_count": 19,
     "metadata": {},
     "output_type": "execute_result"
    }
   ],
   "source": [
    "active_hotspotlist = [hotspot for hotspot in hotspotlist if hotspot['active']]\n",
    "len(active_hotspotlist)"
   ]
  },
  {
   "cell_type": "markdown",
   "id": "45494346",
   "metadata": {},
   "source": [
    "This code should be executed once:"
   ]
  },
  {
   "cell_type": "code",
   "execution_count": 20,
   "id": "146757de",
   "metadata": {
    "scrolled": true
   },
   "outputs": [],
   "source": [
    "# Create a list to hold the combined data\n",
    "combined_data = []\n",
    "\n",
    "for hotspot_info in active_hotspotlist:\n",
    "    hash_value = hotspot_info['hash']\n",
    "    hash_to_info = get_hotspot_data(hash_value)\n",
    "    \n",
    "    if hash_to_info is not None and 'data' in hash_to_info:\n",
    "        combined_data.append({**hotspot_info, **hash_to_info['data']}) "
   ]
  },
  {
   "cell_type": "markdown",
   "id": "d2033135",
   "metadata": {},
   "source": [
    "Working with the data:"
   ]
  },
  {
   "cell_type": "markdown",
   "id": "cf63558a",
   "metadata": {},
   "source": [
    "1. writing the data into initial csv file"
   ]
  },
  {
   "cell_type": "code",
   "execution_count": 21,
   "id": "3fe48876",
   "metadata": {},
   "outputs": [],
   "source": [
    "csv_file_path = 'complete_hotspotdata_active.csv'\n",
    "\n",
    "# Write the combined data to the CSV file\n",
    "with open(csv_file_path, 'w', newline='', encoding='utf-8') as csv_file:\n",
    "    fieldnames = combined_data[0].keys() if combined_data else []  # Assuming all entries have the same keys\n",
    "    writer = csv.DictWriter(csv_file, fieldnames=fieldnames)\n",
    "    writer.writeheader()\n",
    "    writer.writerows(combined_data)\n",
    "\n",
    "print(f\"CSV file '{csv_file_path}' has been created.\")"
   ]
  },
  {
   "cell_type": "markdown",
   "id": "f55cf813",
   "metadata": {},
   "source": [
    "2. Eliminating duplications:"
   ]
  },
  {
   "cell_type": "code",
   "execution_count": null,
   "id": "3dde46f5",
   "metadata": {},
   "outputs": [],
   "source": [
    "csv_file_path = 'complete_hotspotdata_active.csv'\n",
    "df = pd.read_csv(csv_file_path)\n",
    "if (df['hash'] == df['id']).all():\n",
    "    print('hash and id are duplicate')\n",
    "df.drop(columns='id', inplace=True)\n",
    "if (df['h3'] == df['location']).all():\n",
    "    print('h3 and location are duplicate')\n",
    "df.drop(columns='location', inplace=True)\n",
    "df.to_csv('modified_hotspotdata.csv')"
   ]
  }
 ],
 "metadata": {
  "kernelspec": {
   "display_name": "Python 3",
   "language": "python",
   "name": "python3"
  },
  "language_info": {
   "codemirror_mode": {
    "name": "ipython",
    "version": 3
   },
   "file_extension": ".py",
   "mimetype": "text/x-python",
   "name": "python",
   "nbconvert_exporter": "python",
   "pygments_lexer": "ipython3",
   "version": "3.10.7"
  }
 },
 "nbformat": 4,
 "nbformat_minor": 5
}
